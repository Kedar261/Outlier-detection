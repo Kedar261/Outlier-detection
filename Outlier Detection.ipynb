{
 "cells": [
  {
   "cell_type": "markdown",
   "id": "ed6aed6b",
   "metadata": {},
   "source": [
    "# 1. Z-Score Method"
   ]
  },
  {
   "cell_type": "code",
   "execution_count": 4,
   "id": "176261d1",
   "metadata": {},
   "outputs": [],
   "source": [
    "import numpy as np\n",
    "data=[1,2,2,2,3,3,4,5,5,5,6,6,6,6,7,8,8,9,27]"
   ]
  },
  {
   "cell_type": "code",
   "execution_count": 5,
   "id": "4a074d21",
   "metadata": {},
   "outputs": [
    {
     "data": {
      "text/plain": [
       "[27]"
      ]
     },
     "execution_count": 5,
     "metadata": {},
     "output_type": "execute_result"
    }
   ],
   "source": [
    "outliers=[]\n",
    "def detect_outliers(data):\n",
    "    threshold=3#standard deviation\n",
    "    mean=np.mean(data)\n",
    "    std=np.std(data)\n",
    "    \n",
    "    for i in data:\n",
    "        z_score = (i-mean)/std\n",
    "        if np.abs(z_score)>threshold:\n",
    "            outliers.append(i)\n",
    "    return outliers\n",
    "outlier_pt = detect_outliers(data)\n",
    "outlier_pt"
   ]
  },
  {
   "cell_type": "markdown",
   "id": "020b1415",
   "metadata": {},
   "source": [
    "# 2.IQR(Inter Quartile Range)"
   ]
  },
  {
   "cell_type": "code",
   "execution_count": 7,
   "id": "99ef5588",
   "metadata": {},
   "outputs": [
    {
     "data": {
      "text/plain": [
       "[1, 2, 2, 2, 3, 3, 4, 5, 5, 5, 6, 6, 6, 6, 7, 8, 8, 9, 27]"
      ]
     },
     "execution_count": 7,
     "metadata": {},
     "output_type": "execute_result"
    }
   ],
   "source": [
    "sorted(data)"
   ]
  },
  {
   "cell_type": "code",
   "execution_count": 9,
   "id": "7bb140d2",
   "metadata": {},
   "outputs": [
    {
     "name": "stdout",
     "output_type": "stream",
     "text": [
      "3.0 6.5\n"
     ]
    }
   ],
   "source": [
    "quantile1, quantile3 = np.percentile(data,[25,75])\n",
    "print(quantile1, quantile3)"
   ]
  },
  {
   "cell_type": "code",
   "execution_count": 10,
   "id": "ccfb7e89",
   "metadata": {},
   "outputs": [
    {
     "name": "stdout",
     "output_type": "stream",
     "text": [
      "3.5\n"
     ]
    }
   ],
   "source": [
    "iqr_value=quantile3-quantile1\n",
    "print(iqr_value)"
   ]
  },
  {
   "cell_type": "code",
   "execution_count": 12,
   "id": "9779face",
   "metadata": {},
   "outputs": [
    {
     "name": "stdout",
     "output_type": "stream",
     "text": [
      "Lower Bound value= -2.25 Upper Bound value= 11.75\n"
     ]
    }
   ],
   "source": [
    "lower_fence = quantile1 - (iqr_value)*1.5\n",
    "upper_fence = quantile3 + (iqr_value)*1.5\n",
    "print(\"Lower Bound value=\",lower_fence,\"Upper Bound value=\",upper_fence)"
   ]
  }
 ],
 "metadata": {
  "kernelspec": {
   "display_name": "Python 3",
   "language": "python",
   "name": "python3"
  },
  "language_info": {
   "codemirror_mode": {
    "name": "ipython",
    "version": 3
   },
   "file_extension": ".py",
   "mimetype": "text/x-python",
   "name": "python",
   "nbconvert_exporter": "python",
   "pygments_lexer": "ipython3",
   "version": "3.8.8"
  }
 },
 "nbformat": 4,
 "nbformat_minor": 5
}
